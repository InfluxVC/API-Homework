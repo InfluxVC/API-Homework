{
 "cells": [
  {
   "cell_type": "code",
   "execution_count": 173,
   "metadata": {},
   "outputs": [],
   "source": [
    "import os\n",
    "import requests\n",
    "import pandas as pd\n",
    "from dotenv import load_dotenv\n",
    "import alpaca_trade_api as tradeapi\n",
    "from MCForecastTools import MCSimulation\n",
    "\n",
    "%matplotlib inline"
   ]
  },
  {
   "cell_type": "code",
   "execution_count": 129,
   "metadata": {},
   "outputs": [
    {
     "data": {
      "text/plain": [
       "True"
      ]
     },
     "execution_count": 129,
     "metadata": {},
     "output_type": "execute_result"
    }
   ],
   "source": [
    "load_dotenv()"
   ]
  },
  {
   "cell_type": "code",
   "execution_count": 130,
   "metadata": {},
   "outputs": [],
   "source": [
    "btc_url = \"https://api.alternative.me/v2/ticker/Bitcoin/?convert=CAD\"\n",
    "eth_url = \"https://api.alternative.me/v2/ticker/Ethereum/?convert=CAD\""
   ]
  },
  {
   "cell_type": "code",
   "execution_count": 18,
   "metadata": {},
   "outputs": [],
   "source": [
    "my_btc_req= requests.get(btc_url)\n",
    "my_eth_req= requests.get(eth_url)"
   ]
  },
  {
   "cell_type": "code",
   "execution_count": 19,
   "metadata": {},
   "outputs": [],
   "source": [
    "my_btc_content=my_btc_req.content\n",
    "my_eth_content=my_eth_req.content"
   ]
  },
  {
   "cell_type": "code",
   "execution_count": 20,
   "metadata": {},
   "outputs": [],
   "source": [
    "import json\n",
    "my_btc_data = my_btc_req.json()\n",
    "my_eth_data = my_eth_req.json()\n"
   ]
  },
  {
   "cell_type": "code",
   "execution_count": 21,
   "metadata": {},
   "outputs": [
    {
     "data": {
      "text/plain": [
       "{'data': {'1': {'id': 1,\n",
       "   'name': 'Bitcoin',\n",
       "   'symbol': 'BTC',\n",
       "   'website_slug': 'bitcoin',\n",
       "   'rank': 1,\n",
       "   'circulating_supply': 18711218,\n",
       "   'total_supply': 18711218,\n",
       "   'max_supply': 21000000,\n",
       "   'quotes': {'USD': {'price': 47916.0,\n",
       "     'volume_24h': 65637538318,\n",
       "     'market_cap': 896469645044,\n",
       "     'percentage_change_1h': -0.361263094269903,\n",
       "     'percentage_change_24h': -3.98160625950569,\n",
       "     'percentage_change_7d': -18.4712206727909,\n",
       "     'percent_change_1h': -0.361263094269903,\n",
       "     'percent_change_24h': -3.98160625950569,\n",
       "     'percent_change_7d': -18.4712206727909},\n",
       "    'CAD': {'price': 58021.4844,\n",
       "     'volume_24h': 79480495149.2662,\n",
       "     'market_cap': 1085535093183.78,\n",
       "     'percent_change_1h': -0.361263094269903,\n",
       "     'percent_change_24h': -3.98160625950569,\n",
       "     'percent_change_7d': -18.4712206727909}},\n",
       "   'last_updated': 1621136607}},\n",
       " 'metadata': {'timestamp': 1621136607,\n",
       "  'num_cryptocurrencies': 1301,\n",
       "  'error': None}}"
      ]
     },
     "execution_count": 21,
     "metadata": {},
     "output_type": "execute_result"
    }
   ],
   "source": [
    "my_btc_data"
   ]
  },
  {
   "cell_type": "code",
   "execution_count": 133,
   "metadata": {},
   "outputs": [
    {
     "data": {
      "text/plain": [
       "{'data': {'1027': {'id': 1027,\n",
       "   'name': 'Ethereum',\n",
       "   'symbol': 'ETH',\n",
       "   'website_slug': 'ethereum',\n",
       "   'rank': 2,\n",
       "   'circulating_supply': 115892271,\n",
       "   'total_supply': 115892271,\n",
       "   'max_supply': 0,\n",
       "   'quotes': {'USD': {'price': 3803.05,\n",
       "     'volume_24h': 61342966611,\n",
       "     'market_cap': 439986460711,\n",
       "     'percentage_change_1h': -0.603261435384927,\n",
       "     'percentage_change_24h': -6.18807479429744,\n",
       "     'percentage_change_7d': -2.80359239267881,\n",
       "     'percent_change_1h': -0.603261435384927,\n",
       "     'percent_change_24h': -6.18807479429744,\n",
       "     'percent_change_7d': -2.80359239267881},\n",
       "    'CAD': {'price': 4605.113245,\n",
       "     'volume_24h': 74280198269.2599,\n",
       "     'market_cap': 532779605274.95,\n",
       "     'percent_change_1h': -0.603261435384927,\n",
       "     'percent_change_24h': -6.18807479429744,\n",
       "     'percent_change_7d': -2.80359239267881}},\n",
       "   'last_updated': 1621136674}},\n",
       " 'metadata': {'timestamp': 1621136674,\n",
       "  'num_cryptocurrencies': 1301,\n",
       "  'error': None}}"
      ]
     },
     "execution_count": 133,
     "metadata": {},
     "output_type": "execute_result"
    }
   ],
   "source": [
    "my_eth_data"
   ]
  },
  {
   "cell_type": "code",
   "execution_count": 134,
   "metadata": {},
   "outputs": [],
   "source": [
    "my_eth_price=my_eth_data['data']['1027']['quotes']['USD']['price']\n"
   ]
  },
  {
   "cell_type": "code",
   "execution_count": 135,
   "metadata": {},
   "outputs": [],
   "source": [
    "btc_price=my_btc_data['data']['1']['quotes']['USD']['price']\n",
    "eth_price=my_eth_data['data']['1027']['quotes']['USD']['price']"
   ]
  },
  {
   "cell_type": "code",
   "execution_count": 136,
   "metadata": {},
   "outputs": [
    {
     "name": "stdout",
     "output_type": "stream",
     "text": [
      "The current value of your 1.2 BTC is $57499.20\n",
      "The current value of your 5.3 ETH is $20156.17\n"
     ]
    }
   ],
   "source": [
    "print(f\"The current value of your {my_btc} BTC is ${my_btc_value:0.2f}\")\n",
    "print(f\"The current value of your {my_eth} ETH is ${my_eth_value:0.2f}\")"
   ]
  },
  {
   "cell_type": "code",
   "execution_count": 137,
   "metadata": {},
   "outputs": [],
   "source": [
    "Total_Crypto=my_btc_value+my_eth_value"
   ]
  },
  {
   "cell_type": "code",
   "execution_count": 138,
   "metadata": {},
   "outputs": [],
   "source": [
    "my_btc = 1.2\n",
    "my_eth = 5.3\n",
    "my_spy = 50\n",
    "my_agg = 200"
   ]
  },
  {
   "cell_type": "code",
   "execution_count": 139,
   "metadata": {},
   "outputs": [],
   "source": [
    "my_btc_value=my_btc*btc_price\n",
    "my_eth_value=my_eth*eth_price"
   ]
  },
  {
   "cell_type": "code",
   "execution_count": 140,
   "metadata": {},
   "outputs": [],
   "source": [
    "alpaca_api_key=os.getenv(\"ALPACA_API_KEY\")\n",
    "alpaca_secret_key=os.getenv(\"ALPACA_SECRET_KEY\")"
   ]
  },
  {
   "cell_type": "code",
   "execution_count": 141,
   "metadata": {},
   "outputs": [],
   "source": [
    "alpaca_trade=tradeapi.REST(alpaca_api_key,alpaca_secret_key)"
   ]
  },
  {
   "cell_type": "code",
   "execution_count": null,
   "metadata": {},
   "outputs": [],
   "source": []
  },
  {
   "cell_type": "code",
   "execution_count": 142,
   "metadata": {},
   "outputs": [],
   "source": [
    "\n",
    "tickers = [\"AGG\", \"SPY\"]\n",
    "start = \"today\"\n",
    "end = \"today\"\n",
    "\n",
    "stocks_df = alpaca_trade.get_barset(tickers,\"1D\",start=start, end=end).df"
   ]
  },
  {
   "cell_type": "code",
   "execution_count": 143,
   "metadata": {},
   "outputs": [
    {
     "data": {
      "text/plain": [
       "MultiIndex(levels=[['AGG', 'SPY'], ['close', 'high', 'low', 'open', 'volume']],\n",
       "           codes=[[0, 0, 0, 0, 0, 1, 1, 1, 1, 1], [3, 1, 2, 0, 4, 3, 1, 2, 0, 4]])"
      ]
     },
     "execution_count": 143,
     "metadata": {},
     "output_type": "execute_result"
    }
   ],
   "source": [
    "stocks_df.columns"
   ]
  },
  {
   "cell_type": "code",
   "execution_count": null,
   "metadata": {},
   "outputs": [],
   "source": []
  },
  {
   "cell_type": "code",
   "execution_count": 144,
   "metadata": {},
   "outputs": [],
   "source": [
    "stocks_df[\"AGG_close\"]=stocks_df[\"AGG\"][\"close\"]\n",
    "stocks_df[\"SPY_close\"]=stocks_df[\"SPY\"][\"close\"]"
   ]
  },
  {
   "cell_type": "code",
   "execution_count": 145,
   "metadata": {},
   "outputs": [
    {
     "data": {
      "text/plain": [
       "time\n",
       "2020-12-21 00:00:00-05:00    117.79\n",
       "2020-12-22 00:00:00-05:00    117.96\n",
       "2020-12-23 00:00:00-05:00    117.87\n",
       "2020-12-24 00:00:00-05:00    118.01\n",
       "2020-12-28 00:00:00-05:00    118.01\n",
       "Name: AGG_close, dtype: float64"
      ]
     },
     "execution_count": 145,
     "metadata": {},
     "output_type": "execute_result"
    }
   ],
   "source": [
    "stocks_df[\"AGG_close\"].head()"
   ]
  },
  {
   "cell_type": "code",
   "execution_count": 146,
   "metadata": {},
   "outputs": [
    {
     "data": {
      "text/plain": [
       "time\n",
       "2020-12-21 00:00:00-05:00    367.9300\n",
       "2020-12-22 00:00:00-05:00    367.2200\n",
       "2020-12-23 00:00:00-05:00    367.5300\n",
       "2020-12-24 00:00:00-05:00    368.9899\n",
       "2020-12-28 00:00:00-05:00    372.1400\n",
       "Name: SPY_close, dtype: float64"
      ]
     },
     "execution_count": 146,
     "metadata": {},
     "output_type": "execute_result"
    }
   ],
   "source": [
    "stocks_df[\"SPY_close\"].head()"
   ]
  },
  {
   "cell_type": "code",
   "execution_count": 147,
   "metadata": {},
   "outputs": [],
   "source": [
    "spy_close_price=stocks_df[\"SPY_close\"]\n",
    "agg_close_price=stocks_df[\"AGG_close\"]"
   ]
  },
  {
   "cell_type": "code",
   "execution_count": 148,
   "metadata": {},
   "outputs": [
    {
     "name": "stdout",
     "output_type": "stream",
     "text": [
      "Current SPY closing prince: $time\n",
      "2020-12-21 00:00:00-05:00    367.9300\n",
      "2020-12-22 00:00:00-05:00    367.2200\n",
      "2020-12-23 00:00:00-05:00    367.5300\n",
      "2020-12-24 00:00:00-05:00    368.9899\n",
      "2020-12-28 00:00:00-05:00    372.1400\n",
      "2020-12-29 00:00:00-05:00    371.4800\n",
      "2020-12-30 00:00:00-05:00    371.9300\n",
      "2020-12-31 00:00:00-05:00    373.8500\n",
      "2021-01-04 00:00:00-05:00    368.8500\n",
      "2021-01-05 00:00:00-05:00    371.3200\n",
      "2021-01-06 00:00:00-05:00    373.5300\n",
      "2021-01-07 00:00:00-05:00    379.0600\n",
      "2021-01-08 00:00:00-05:00    381.2400\n",
      "2021-01-11 00:00:00-05:00    378.7400\n",
      "2021-01-12 00:00:00-05:00    378.8100\n",
      "2021-01-13 00:00:00-05:00    379.7600\n",
      "2021-01-14 00:00:00-05:00    378.4500\n",
      "2021-01-15 00:00:00-05:00    375.6800\n",
      "2021-01-19 00:00:00-05:00    378.6300\n",
      "2021-01-20 00:00:00-05:00    383.8600\n",
      "2021-01-21 00:00:00-05:00    384.2000\n",
      "2021-01-22 00:00:00-05:00    382.8600\n",
      "2021-01-25 00:00:00-05:00    384.4000\n",
      "2021-01-26 00:00:00-05:00    383.8300\n",
      "2021-01-27 00:00:00-05:00    374.4400\n",
      "2021-01-28 00:00:00-05:00    377.6000\n",
      "2021-01-29 00:00:00-05:00    370.1900\n",
      "2021-02-01 00:00:00-05:00    376.1800\n",
      "2021-02-02 00:00:00-05:00    381.5400\n",
      "2021-02-03 00:00:00-05:00    381.8600\n",
      "                               ...   \n",
      "2021-04-05 00:00:00-04:00    406.3000\n",
      "2021-04-06 00:00:00-04:00    406.0600\n",
      "2021-04-07 00:00:00-04:00    406.5711\n",
      "2021-04-08 00:00:00-04:00    408.4900\n",
      "2021-04-09 00:00:00-04:00    411.4350\n",
      "2021-04-12 00:00:00-04:00    411.6200\n",
      "2021-04-13 00:00:00-04:00    412.8200\n",
      "2021-04-14 00:00:00-04:00    411.4800\n",
      "2021-04-15 00:00:00-04:00    415.8200\n",
      "2021-04-16 00:00:00-04:00    417.3100\n",
      "2021-04-19 00:00:00-04:00    415.2400\n",
      "2021-04-20 00:00:00-04:00    412.2200\n",
      "2021-04-21 00:00:00-04:00    416.0800\n",
      "2021-04-22 00:00:00-04:00    412.3000\n",
      "2021-04-23 00:00:00-04:00    416.7200\n",
      "2021-04-26 00:00:00-04:00    417.6400\n",
      "2021-04-27 00:00:00-04:00    417.4800\n",
      "2021-04-28 00:00:00-04:00    417.3500\n",
      "2021-04-29 00:00:00-04:00    419.9900\n",
      "2021-04-30 00:00:00-04:00    417.3000\n",
      "2021-05-03 00:00:00-04:00    418.1800\n",
      "2021-05-04 00:00:00-04:00    415.6400\n",
      "2021-05-05 00:00:00-04:00    415.7200\n",
      "2021-05-06 00:00:00-04:00    419.0800\n",
      "2021-05-07 00:00:00-04:00    422.0900\n",
      "2021-05-10 00:00:00-04:00    417.9800\n",
      "2021-05-11 00:00:00-04:00    414.2700\n",
      "2021-05-12 00:00:00-04:00    405.4400\n",
      "2021-05-13 00:00:00-04:00    410.2600\n",
      "2021-05-14 00:00:00-04:00    416.5300\n",
      "Name: SPY_close, Length: 100, dtype: float64\n"
     ]
    }
   ],
   "source": [
    "print(f\"Current SPY closing prince: ${spy_close_price}\")"
   ]
  },
  {
   "cell_type": "code",
   "execution_count": 42,
   "metadata": {},
   "outputs": [
    {
     "name": "stdout",
     "output_type": "stream",
     "text": [
      "Current AGG closing prince: $time\n",
      "2020-12-21 00:00:00-05:00    117.7900\n",
      "2020-12-22 00:00:00-05:00    117.9600\n",
      "2020-12-23 00:00:00-05:00    117.8700\n",
      "2020-12-24 00:00:00-05:00    118.0100\n",
      "2020-12-28 00:00:00-05:00    118.0100\n",
      "2020-12-29 00:00:00-05:00    118.0500\n",
      "2020-12-30 00:00:00-05:00    118.1000\n",
      "2020-12-31 00:00:00-05:00    118.2000\n",
      "2021-01-04 00:00:00-05:00    118.0400\n",
      "2021-01-05 00:00:00-05:00    117.9150\n",
      "2021-01-06 00:00:00-05:00    117.3600\n",
      "2021-01-07 00:00:00-05:00    117.2100\n",
      "2021-01-08 00:00:00-05:00    117.0900\n",
      "2021-01-11 00:00:00-05:00    116.8900\n",
      "2021-01-12 00:00:00-05:00    116.9800\n",
      "2021-01-13 00:00:00-05:00    117.3600\n",
      "2021-01-14 00:00:00-05:00    117.1500\n",
      "2021-01-15 00:00:00-05:00    117.2600\n",
      "2021-01-19 00:00:00-05:00    117.4100\n",
      "2021-01-20 00:00:00-05:00    117.4000\n",
      "2021-01-21 00:00:00-05:00    117.2600\n",
      "2021-01-22 00:00:00-05:00    117.2600\n",
      "2021-01-25 00:00:00-05:00    117.5400\n",
      "2021-01-26 00:00:00-05:00    117.5100\n",
      "2021-01-27 00:00:00-05:00    117.5200\n",
      "2021-01-28 00:00:00-05:00    117.4300\n",
      "2021-01-29 00:00:00-05:00    117.3200\n",
      "2021-02-01 00:00:00-05:00    117.2100\n",
      "2021-02-02 00:00:00-05:00    117.0500\n",
      "2021-02-03 00:00:00-05:00    116.8900\n",
      "                               ...   \n",
      "2021-04-05 00:00:00-04:00    113.8100\n",
      "2021-04-06 00:00:00-04:00    114.2100\n",
      "2021-04-07 00:00:00-04:00    114.0300\n",
      "2021-04-08 00:00:00-04:00    114.3000\n",
      "2021-04-09 00:00:00-04:00    114.1800\n",
      "2021-04-12 00:00:00-04:00    114.1500\n",
      "2021-04-13 00:00:00-04:00    114.4600\n",
      "2021-04-14 00:00:00-04:00    114.3800\n",
      "2021-04-15 00:00:00-04:00    114.8100\n",
      "2021-04-16 00:00:00-04:00    114.5400\n",
      "2021-04-19 00:00:00-04:00    114.4400\n",
      "2021-04-20 00:00:00-04:00    114.6200\n",
      "2021-04-21 00:00:00-04:00    114.7400\n",
      "2021-04-22 00:00:00-04:00    114.7700\n",
      "2021-04-23 00:00:00-04:00    114.7500\n",
      "2021-04-26 00:00:00-04:00    114.6500\n",
      "2021-04-27 00:00:00-04:00    114.3700\n",
      "2021-04-28 00:00:00-04:00    114.4400\n",
      "2021-04-29 00:00:00-04:00    114.3700\n",
      "2021-04-30 00:00:00-04:00    114.5000\n",
      "2021-05-03 00:00:00-04:00    114.4000\n",
      "2021-05-04 00:00:00-04:00    114.5285\n",
      "2021-05-05 00:00:00-04:00    114.6100\n",
      "2021-05-06 00:00:00-04:00    114.6500\n",
      "2021-05-07 00:00:00-04:00    114.6450\n",
      "2021-05-10 00:00:00-04:00    114.4300\n",
      "2021-05-11 00:00:00-04:00    114.1900\n",
      "2021-05-12 00:00:00-04:00    113.7900\n",
      "2021-05-13 00:00:00-04:00    114.0150\n",
      "2021-05-14 00:00:00-04:00    114.2800\n",
      "Name: AGG_close, Length: 100, dtype: float64\n"
     ]
    }
   ],
   "source": [
    "print(f\"Current AGG closing prince: ${agg_close_price}\")"
   ]
  },
  {
   "cell_type": "code",
   "execution_count": 149,
   "metadata": {},
   "outputs": [],
   "source": [
    "my_spy_prices=spy_close_price*my_spy\n",
    "my_agg_prices=agg_close_price*my_agg"
   ]
  },
  {
   "cell_type": "code",
   "execution_count": 150,
   "metadata": {},
   "outputs": [],
   "source": [
    "my_spy_value=my_spy_prices['2021-05-14']\n",
    "my_agg_value=my_agg_prices['2021-05-14']"
   ]
  },
  {
   "cell_type": "code",
   "execution_count": 151,
   "metadata": {},
   "outputs": [],
   "source": [
    "spy_close_price.index= spy_close_price.index.date"
   ]
  },
  {
   "cell_type": "code",
   "execution_count": 152,
   "metadata": {},
   "outputs": [
    {
     "data": {
      "text/plain": [
       "2020-12-21    367.9300\n",
       "2020-12-22    367.2200\n",
       "2020-12-23    367.5300\n",
       "2020-12-24    368.9899\n",
       "2020-12-28    372.1400\n",
       "2020-12-29    371.4800\n",
       "2020-12-30    371.9300\n",
       "2020-12-31    373.8500\n",
       "2021-01-04    368.8500\n",
       "2021-01-05    371.3200\n",
       "2021-01-06    373.5300\n",
       "2021-01-07    379.0600\n",
       "2021-01-08    381.2400\n",
       "2021-01-11    378.7400\n",
       "2021-01-12    378.8100\n",
       "2021-01-13    379.7600\n",
       "2021-01-14    378.4500\n",
       "2021-01-15    375.6800\n",
       "2021-01-19    378.6300\n",
       "2021-01-20    383.8600\n",
       "2021-01-21    384.2000\n",
       "2021-01-22    382.8600\n",
       "2021-01-25    384.4000\n",
       "2021-01-26    383.8300\n",
       "2021-01-27    374.4400\n",
       "2021-01-28    377.6000\n",
       "2021-01-29    370.1900\n",
       "2021-02-01    376.1800\n",
       "2021-02-02    381.5400\n",
       "2021-02-03    381.8600\n",
       "                ...   \n",
       "2021-04-05    406.3000\n",
       "2021-04-06    406.0600\n",
       "2021-04-07    406.5711\n",
       "2021-04-08    408.4900\n",
       "2021-04-09    411.4350\n",
       "2021-04-12    411.6200\n",
       "2021-04-13    412.8200\n",
       "2021-04-14    411.4800\n",
       "2021-04-15    415.8200\n",
       "2021-04-16    417.3100\n",
       "2021-04-19    415.2400\n",
       "2021-04-20    412.2200\n",
       "2021-04-21    416.0800\n",
       "2021-04-22    412.3000\n",
       "2021-04-23    416.7200\n",
       "2021-04-26    417.6400\n",
       "2021-04-27    417.4800\n",
       "2021-04-28    417.3500\n",
       "2021-04-29    419.9900\n",
       "2021-04-30    417.3000\n",
       "2021-05-03    418.1800\n",
       "2021-05-04    415.6400\n",
       "2021-05-05    415.7200\n",
       "2021-05-06    419.0800\n",
       "2021-05-07    422.0900\n",
       "2021-05-10    417.9800\n",
       "2021-05-11    414.2700\n",
       "2021-05-12    405.4400\n",
       "2021-05-13    410.2600\n",
       "2021-05-14    416.5300\n",
       "Name: SPY_close, Length: 100, dtype: float64"
      ]
     },
     "execution_count": 152,
     "metadata": {},
     "output_type": "execute_result"
    }
   ],
   "source": [
    "spy_close_price"
   ]
  },
  {
   "cell_type": "code",
   "execution_count": 153,
   "metadata": {},
   "outputs": [
    {
     "name": "stdout",
     "output_type": "stream",
     "text": [
      "The current value of your 50 SPY shares is $20826.50\n",
      "The current value of your 200 AGG shares is $22856.00\n"
     ]
    }
   ],
   "source": [
    "print(f\"The current value of your {my_spy} SPY shares is ${my_spy_value:0.2f}\")\n",
    "print(f\"The current value of your {my_agg} AGG shares is ${my_agg_value:0.2f}\")"
   ]
  },
  {
   "cell_type": "code",
   "execution_count": 154,
   "metadata": {},
   "outputs": [
    {
     "name": "stdout",
     "output_type": "stream",
     "text": [
      "The current value of your 50 SPY shares is $20826.50\n",
      "The current value of your 200 AGG shares is $22856.00\n"
     ]
    }
   ],
   "source": [
    "print(f\"The current value of your {my_spy} SPY shares is ${my_spy_value:0.2f}\")\n",
    "print(f\"The current value of your {my_agg} AGG shares is ${my_agg_value:0.2f}\")"
   ]
  },
  {
   "cell_type": "code",
   "execution_count": 155,
   "metadata": {},
   "outputs": [],
   "source": [
    "monthly_income=12000\n",
    "Total_Shares=my_spy_value+my_agg_value"
   ]
  },
  {
   "cell_type": "code",
   "execution_count": 156,
   "metadata": {},
   "outputs": [],
   "source": [
    "data=(Total_Crypto,Total_Shares)"
   ]
  },
  {
   "cell_type": "code",
   "execution_count": 157,
   "metadata": {},
   "outputs": [],
   "source": [
    "df_savings=pd.DataFrame(data, index=['Crypto','Shares'], columns=['amount'])\n"
   ]
  },
  {
   "cell_type": "code",
   "execution_count": 158,
   "metadata": {},
   "outputs": [
    {
     "data": {
      "text/html": [
       "<div>\n",
       "<style scoped>\n",
       "    .dataframe tbody tr th:only-of-type {\n",
       "        vertical-align: middle;\n",
       "    }\n",
       "\n",
       "    .dataframe tbody tr th {\n",
       "        vertical-align: top;\n",
       "    }\n",
       "\n",
       "    .dataframe thead th {\n",
       "        text-align: right;\n",
       "    }\n",
       "</style>\n",
       "<table border=\"1\" class=\"dataframe\">\n",
       "  <thead>\n",
       "    <tr style=\"text-align: right;\">\n",
       "      <th></th>\n",
       "      <th>amount</th>\n",
       "    </tr>\n",
       "  </thead>\n",
       "  <tbody>\n",
       "    <tr>\n",
       "      <th>Crypto</th>\n",
       "      <td>77655.365</td>\n",
       "    </tr>\n",
       "    <tr>\n",
       "      <th>Shares</th>\n",
       "      <td>43682.500</td>\n",
       "    </tr>\n",
       "  </tbody>\n",
       "</table>\n",
       "</div>"
      ],
      "text/plain": [
       "           amount\n",
       "Crypto  77655.365\n",
       "Shares  43682.500"
      ]
     },
     "metadata": {},
     "output_type": "display_data"
    }
   ],
   "source": [
    "display(df_savings)"
   ]
  },
  {
   "cell_type": "code",
   "execution_count": 159,
   "metadata": {},
   "outputs": [
    {
     "data": {
      "text/plain": [
       "array([<matplotlib.axes._subplots.AxesSubplot object at 0x7fee4ac40b10>],\n",
       "      dtype=object)"
      ]
     },
     "execution_count": 159,
     "metadata": {},
     "output_type": "execute_result"
    },
    {
     "data": {
      "image/png": "[encoded data removed]",
      "text/plain": [
       "<Figure size 432x288 with 1 Axes>"
      ]
     },
     "metadata": {},
     "output_type": "display_data"
    }
   ],
   "source": [
    "df_savings.plot(kind='pie',subplots=True)"
   ]
  },
  {
   "cell_type": "code",
   "execution_count": 160,
   "metadata": {},
   "outputs": [
    {
     "name": "stdout",
     "output_type": "stream",
     "text": [
      "M0N3Y PR1NT3R G0 BRRR!!!\n"
     ]
    }
   ],
   "source": [
    "if Total_Shares > 3 * monthly_income:\n",
    "    print(\"M0N3Y PR1NT3R G0 BRRR!!!\")\n",
    "elif Total_Shares == 3 * monthly_income:\n",
    "    print(\"The first 100k is the hardest\")\n",
    "elif Total_Shares <= 3 * monthly_income:\n",
    "    print(Total_Shares- 3 * monthly_income)"
   ]
  },
  {
   "cell_type": "code",
   "execution_count": 161,
   "metadata": {},
   "outputs": [],
   "source": [
    "tickers = [\"AGG\", \"SPY\"]\n",
    "start = \"2016-05-14\"\n",
    "end = \"2021-05-14\"\n",
    "\n",
    "MC_Sim = alpaca_trade.get_barset(tickers,\"1D\",start=start, end=end).df"
   ]
  },
  {
   "cell_type": "code",
   "execution_count": 163,
   "metadata": {},
   "outputs": [
    {
     "data": {
      "text/html": [
       "<div>\n",
       "<style scoped>\n",
       "    .dataframe tbody tr th:only-of-type {\n",
       "        vertical-align: middle;\n",
       "    }\n",
       "\n",
       "    .dataframe tbody tr th {\n",
       "        vertical-align: top;\n",
       "    }\n",
       "\n",
       "    .dataframe thead tr th {\n",
       "        text-align: left;\n",
       "    }\n",
       "\n",
       "    .dataframe thead tr:last-of-type th {\n",
       "        text-align: right;\n",
       "    }\n",
       "</style>\n",
       "<table border=\"1\" class=\"dataframe\">\n",
       "  <thead>\n",
       "    <tr>\n",
       "      <th></th>\n",
       "      <th colspan=\"5\" halign=\"left\">AGG</th>\n",
       "      <th colspan=\"5\" halign=\"left\">SPY</th>\n",
       "    </tr>\n",
       "    <tr>\n",
       "      <th></th>\n",
       "      <th>open</th>\n",
       "      <th>high</th>\n",
       "      <th>low</th>\n",
       "      <th>close</th>\n",
       "      <th>volume</th>\n",
       "      <th>open</th>\n",
       "      <th>high</th>\n",
       "      <th>low</th>\n",
       "      <th>close</th>\n",
       "      <th>volume</th>\n",
       "    </tr>\n",
       "    <tr>\n",
       "      <th>time</th>\n",
       "      <th></th>\n",
       "      <th></th>\n",
       "      <th></th>\n",
       "      <th></th>\n",
       "      <th></th>\n",
       "      <th></th>\n",
       "      <th></th>\n",
       "      <th></th>\n",
       "      <th></th>\n",
       "      <th></th>\n",
       "    </tr>\n",
       "  </thead>\n",
       "  <tbody>\n",
       "    <tr>\n",
       "      <th>2020-12-21 00:00:00-05:00</th>\n",
       "      <td>117.92</td>\n",
       "      <td>117.960</td>\n",
       "      <td>117.750</td>\n",
       "      <td>117.79</td>\n",
       "      <td>3645094</td>\n",
       "      <td>364.97</td>\n",
       "      <td>378.4600</td>\n",
       "      <td>362.0300</td>\n",
       "      <td>367.9300</td>\n",
       "      <td>73946581</td>\n",
       "    </tr>\n",
       "    <tr>\n",
       "      <th>2020-12-22 00:00:00-05:00</th>\n",
       "      <td>117.88</td>\n",
       "      <td>117.980</td>\n",
       "      <td>117.825</td>\n",
       "      <td>117.96</td>\n",
       "      <td>2570686</td>\n",
       "      <td>368.21</td>\n",
       "      <td>368.3317</td>\n",
       "      <td>366.0300</td>\n",
       "      <td>367.2200</td>\n",
       "      <td>41116443</td>\n",
       "    </tr>\n",
       "    <tr>\n",
       "      <th>2020-12-23 00:00:00-05:00</th>\n",
       "      <td>117.81</td>\n",
       "      <td>117.870</td>\n",
       "      <td>117.630</td>\n",
       "      <td>117.87</td>\n",
       "      <td>3972279</td>\n",
       "      <td>368.28</td>\n",
       "      <td>369.6200</td>\n",
       "      <td>367.2172</td>\n",
       "      <td>367.5300</td>\n",
       "      <td>37537811</td>\n",
       "    </tr>\n",
       "    <tr>\n",
       "      <th>2020-12-24 00:00:00-05:00</th>\n",
       "      <td>117.94</td>\n",
       "      <td>118.046</td>\n",
       "      <td>117.925</td>\n",
       "      <td>118.01</td>\n",
       "      <td>1722930</td>\n",
       "      <td>368.08</td>\n",
       "      <td>369.0100</td>\n",
       "      <td>367.4500</td>\n",
       "      <td>368.9899</td>\n",
       "      <td>21047937</td>\n",
       "    </tr>\n",
       "    <tr>\n",
       "      <th>2020-12-28 00:00:00-05:00</th>\n",
       "      <td>117.97</td>\n",
       "      <td>118.045</td>\n",
       "      <td>117.833</td>\n",
       "      <td>118.01</td>\n",
       "      <td>3503095</td>\n",
       "      <td>371.74</td>\n",
       "      <td>372.5900</td>\n",
       "      <td>371.0700</td>\n",
       "      <td>372.1400</td>\n",
       "      <td>31589494</td>\n",
       "    </tr>\n",
       "  </tbody>\n",
       "</table>\n",
       "</div>"
      ],
      "text/plain": [
       "                              AGG                                        SPY  \\\n",
       "                             open     high      low   close   volume    open   \n",
       "time                                                                           \n",
       "2020-12-21 00:00:00-05:00  117.92  117.960  117.750  117.79  3645094  364.97   \n",
       "2020-12-22 00:00:00-05:00  117.88  117.980  117.825  117.96  2570686  368.21   \n",
       "2020-12-23 00:00:00-05:00  117.81  117.870  117.630  117.87  3972279  368.28   \n",
       "2020-12-24 00:00:00-05:00  117.94  118.046  117.925  118.01  1722930  368.08   \n",
       "2020-12-28 00:00:00-05:00  117.97  118.045  117.833  118.01  3503095  371.74   \n",
       "\n",
       "                                                                   \n",
       "                               high       low     close    volume  \n",
       "time                                                               \n",
       "2020-12-21 00:00:00-05:00  378.4600  362.0300  367.9300  73946581  \n",
       "2020-12-22 00:00:00-05:00  368.3317  366.0300  367.2200  41116443  \n",
       "2020-12-23 00:00:00-05:00  369.6200  367.2172  367.5300  37537811  \n",
       "2020-12-24 00:00:00-05:00  369.0100  367.4500  368.9899  21047937  \n",
       "2020-12-28 00:00:00-05:00  372.5900  371.0700  372.1400  31589494  "
      ]
     },
     "execution_count": 163,
     "metadata": {},
     "output_type": "execute_result"
    }
   ],
   "source": [
    "MC_Sim.head()"
   ]
  },
  {
   "cell_type": "code",
   "execution_count": 174,
   "metadata": {},
   "outputs": [],
   "source": [
    "MC_Sim_5y= MCSimulation(MC_Sim,[0.6,0.4], 500, 252*30)"
   ]
  },
  {
   "cell_type": "code",
   "execution_count": 187,
   "metadata": {},
   "outputs": [
    {
     "name": "stdout",
     "output_type": "stream",
     "text": [
      "Running Monte Carlo simulation number 0.\n",
      "Running Monte Carlo simulation number 10.\n",
      "Running Monte Carlo simulation number 20.\n",
      "Running Monte Carlo simulation number 30.\n",
      "Running Monte Carlo simulation number 40.\n",
      "Running Monte Carlo simulation number 50.\n",
      "Running Monte Carlo simulation number 60.\n",
      "Running Monte Carlo simulation number 70.\n",
      "Running Monte Carlo simulation number 80.\n",
      "Running Monte Carlo simulation number 90.\n",
      "Running Monte Carlo simulation number 100.\n",
      "Running Monte Carlo simulation number 110.\n",
      "Running Monte Carlo simulation number 120.\n",
      "Running Monte Carlo simulation number 130.\n",
      "Running Monte Carlo simulation number 140.\n",
      "Running Monte Carlo simulation number 150.\n",
      "Running Monte Carlo simulation number 160.\n",
      "Running Monte Carlo simulation number 170.\n",
      "Running Monte Carlo simulation number 180.\n",
      "Running Monte Carlo simulation number 190.\n",
      "Running Monte Carlo simulation number 200.\n",
      "Running Monte Carlo simulation number 210.\n",
      "Running Monte Carlo simulation number 220.\n",
      "Running Monte Carlo simulation number 230.\n",
      "Running Monte Carlo simulation number 240.\n",
      "Running Monte Carlo simulation number 250.\n",
      "Running Monte Carlo simulation number 260.\n",
      "Running Monte Carlo simulation number 270.\n",
      "Running Monte Carlo simulation number 280.\n",
      "Running Monte Carlo simulation number 290.\n",
      "Running Monte Carlo simulation number 300.\n",
      "Running Monte Carlo simulation number 310.\n",
      "Running Monte Carlo simulation number 320.\n",
      "Running Monte Carlo simulation number 330.\n",
      "Running Monte Carlo simulation number 340.\n",
      "Running Monte Carlo simulation number 350.\n",
      "Running Monte Carlo simulation number 360.\n",
      "Running Monte Carlo simulation number 370.\n",
      "Running Monte Carlo simulation number 380.\n",
      "Running Monte Carlo simulation number 390.\n",
      "Running Monte Carlo simulation number 400.\n",
      "Running Monte Carlo simulation number 410.\n",
      "Running Monte Carlo simulation number 420.\n",
      "Running Monte Carlo simulation number 430.\n",
      "Running Monte Carlo simulation number 440.\n",
      "Running Monte Carlo simulation number 450.\n",
      "Running Monte Carlo simulation number 460.\n",
      "Running Monte Carlo simulation number 470.\n",
      "Running Monte Carlo simulation number 480.\n",
      "Running Monte Carlo simulation number 490.\n"
     ]
    },
    {
     "data": {
      "text/html": [
       "<div>\n",
       "<style scoped>\n",
       "    .dataframe tbody tr th:only-of-type {\n",
       "        vertical-align: middle;\n",
       "    }\n",
       "\n",
       "    .dataframe tbody tr th {\n",
       "        vertical-align: top;\n",
       "    }\n",
       "\n",
       "    .dataframe thead th {\n",
       "        text-align: right;\n",
       "    }\n",
       "</style>\n",
       "<table border=\"1\" class=\"dataframe\">\n",
       "  <thead>\n",
       "    <tr style=\"text-align: right;\">\n",
       "      <th></th>\n",
       "      <th>0</th>\n",
       "      <th>1</th>\n",
       "      <th>2</th>\n",
       "      <th>3</th>\n",
       "      <th>4</th>\n",
       "      <th>5</th>\n",
       "      <th>6</th>\n",
       "      <th>7</th>\n",
       "      <th>8</th>\n",
       "      <th>9</th>\n",
       "      <th>...</th>\n",
       "      <th>490</th>\n",
       "      <th>491</th>\n",
       "      <th>492</th>\n",
       "      <th>493</th>\n",
       "      <th>494</th>\n",
       "      <th>495</th>\n",
       "      <th>496</th>\n",
       "      <th>497</th>\n",
       "      <th>498</th>\n",
       "      <th>499</th>\n",
       "    </tr>\n",
       "  </thead>\n",
       "  <tbody>\n",
       "    <tr>\n",
       "      <th>0</th>\n",
       "      <td>1.000000</td>\n",
       "      <td>1.000000</td>\n",
       "      <td>1.000000</td>\n",
       "      <td>1.000000</td>\n",
       "      <td>1.000000</td>\n",
       "      <td>1.000000</td>\n",
       "      <td>1.000000</td>\n",
       "      <td>1.000000</td>\n",
       "      <td>1.000000</td>\n",
       "      <td>1.000000</td>\n",
       "      <td>...</td>\n",
       "      <td>1.000000</td>\n",
       "      <td>1.000000</td>\n",
       "      <td>1.000000</td>\n",
       "      <td>1.000000</td>\n",
       "      <td>1.000000</td>\n",
       "      <td>1.000000</td>\n",
       "      <td>1.000000</td>\n",
       "      <td>1.000000</td>\n",
       "      <td>1.000000</td>\n",
       "      <td>1.000000</td>\n",
       "    </tr>\n",
       "    <tr>\n",
       "      <th>1</th>\n",
       "      <td>1.003147</td>\n",
       "      <td>1.000859</td>\n",
       "      <td>1.001958</td>\n",
       "      <td>1.002560</td>\n",
       "      <td>1.001608</td>\n",
       "      <td>0.997592</td>\n",
       "      <td>1.001801</td>\n",
       "      <td>1.005976</td>\n",
       "      <td>1.000022</td>\n",
       "      <td>1.001285</td>\n",
       "      <td>...</td>\n",
       "      <td>1.005689</td>\n",
       "      <td>1.004344</td>\n",
       "      <td>1.000595</td>\n",
       "      <td>0.998318</td>\n",
       "      <td>0.996842</td>\n",
       "      <td>0.993896</td>\n",
       "      <td>1.001976</td>\n",
       "      <td>0.997344</td>\n",
       "      <td>0.994538</td>\n",
       "      <td>0.997421</td>\n",
       "    </tr>\n",
       "    <tr>\n",
       "      <th>2</th>\n",
       "      <td>0.999598</td>\n",
       "      <td>1.002659</td>\n",
       "      <td>0.998678</td>\n",
       "      <td>1.008543</td>\n",
       "      <td>1.002102</td>\n",
       "      <td>1.000674</td>\n",
       "      <td>1.004074</td>\n",
       "      <td>1.005812</td>\n",
       "      <td>0.997772</td>\n",
       "      <td>1.003737</td>\n",
       "      <td>...</td>\n",
       "      <td>1.003024</td>\n",
       "      <td>1.010639</td>\n",
       "      <td>1.000052</td>\n",
       "      <td>0.992438</td>\n",
       "      <td>0.995061</td>\n",
       "      <td>0.997925</td>\n",
       "      <td>1.000333</td>\n",
       "      <td>1.001675</td>\n",
       "      <td>0.990286</td>\n",
       "      <td>0.999294</td>\n",
       "    </tr>\n",
       "    <tr>\n",
       "      <th>3</th>\n",
       "      <td>0.994942</td>\n",
       "      <td>1.001937</td>\n",
       "      <td>0.996259</td>\n",
       "      <td>1.006608</td>\n",
       "      <td>1.005384</td>\n",
       "      <td>0.999183</td>\n",
       "      <td>1.005825</td>\n",
       "      <td>1.007591</td>\n",
       "      <td>1.004599</td>\n",
       "      <td>1.006678</td>\n",
       "      <td>...</td>\n",
       "      <td>1.006419</td>\n",
       "      <td>1.004007</td>\n",
       "      <td>1.000912</td>\n",
       "      <td>0.990165</td>\n",
       "      <td>0.996850</td>\n",
       "      <td>0.992398</td>\n",
       "      <td>0.998921</td>\n",
       "      <td>1.003496</td>\n",
       "      <td>0.983870</td>\n",
       "      <td>0.998294</td>\n",
       "    </tr>\n",
       "    <tr>\n",
       "      <th>4</th>\n",
       "      <td>0.997994</td>\n",
       "      <td>1.004455</td>\n",
       "      <td>0.994655</td>\n",
       "      <td>1.011262</td>\n",
       "      <td>1.001760</td>\n",
       "      <td>1.008054</td>\n",
       "      <td>1.001235</td>\n",
       "      <td>1.008893</td>\n",
       "      <td>1.004266</td>\n",
       "      <td>1.009967</td>\n",
       "      <td>...</td>\n",
       "      <td>1.014141</td>\n",
       "      <td>1.004453</td>\n",
       "      <td>0.995307</td>\n",
       "      <td>0.990020</td>\n",
       "      <td>0.996945</td>\n",
       "      <td>0.988935</td>\n",
       "      <td>0.998380</td>\n",
       "      <td>1.003002</td>\n",
       "      <td>0.988605</td>\n",
       "      <td>0.994835</td>\n",
       "    </tr>\n",
       "  </tbody>\n",
       "</table>\n",
       "<p>5 rows × 500 columns</p>\n",
       "</div>"
      ],
      "text/plain": [
       "        0         1         2         3         4         5         6    \\\n",
       "0  1.000000  1.000000  1.000000  1.000000  1.000000  1.000000  1.000000   \n",
       "1  1.003147  1.000859  1.001958  1.002560  1.001608  0.997592  1.001801   \n",
       "2  0.999598  1.002659  0.998678  1.008543  1.002102  1.000674  1.004074   \n",
       "3  0.994942  1.001937  0.996259  1.006608  1.005384  0.999183  1.005825   \n",
       "4  0.997994  1.004455  0.994655  1.011262  1.001760  1.008054  1.001235   \n",
       "\n",
       "        7         8         9    ...       490       491       492       493  \\\n",
       "0  1.000000  1.000000  1.000000  ...  1.000000  1.000000  1.000000  1.000000   \n",
       "1  1.005976  1.000022  1.001285  ...  1.005689  1.004344  1.000595  0.998318   \n",
       "2  1.005812  0.997772  1.003737  ...  1.003024  1.010639  1.000052  0.992438   \n",
       "3  1.007591  1.004599  1.006678  ...  1.006419  1.004007  1.000912  0.990165   \n",
       "4  1.008893  1.004266  1.009967  ...  1.014141  1.004453  0.995307  0.990020   \n",
       "\n",
       "        494       495       496       497       498       499  \n",
       "0  1.000000  1.000000  1.000000  1.000000  1.000000  1.000000  \n",
       "1  0.996842  0.993896  1.001976  0.997344  0.994538  0.997421  \n",
       "2  0.995061  0.997925  1.000333  1.001675  0.990286  0.999294  \n",
       "3  0.996850  0.992398  0.998921  1.003496  0.983870  0.998294  \n",
       "4  0.996945  0.988935  0.998380  1.003002  0.988605  0.994835  \n",
       "\n",
       "[5 rows x 500 columns]"
      ]
     },
     "execution_count": 187,
     "metadata": {},
     "output_type": "execute_result"
    }
   ],
   "source": [
    "MC_Sim_5y.calc_cumulative_return().head()"
   ]
  },
  {
   "cell_type": "code",
   "execution_count": 180,
   "metadata": {},
   "outputs": [
    {
     "data": {
      "text/plain": [
       "<matplotlib.axes._subplots.AxesSubplot at 0x7fee28dd4790>"
      ]
     },
     "execution_count": 180,
     "metadata": {},
     "output_type": "execute_result"
    },
    {
     "data": {
      "image/png": "[encoded data removed]",
      "text/plain": [
       "<Figure size 432x288 with 1 Axes>"
      ]
     },
     "metadata": {
      "needs_background": "light"
     },
     "output_type": "display_data"
    }
   ],
   "source": [
    "MC_Sim_5y.plot_simulation()"
   ]
  },
  {
   "cell_type": "code",
   "execution_count": 184,
   "metadata": {},
   "outputs": [
    {
     "data": {
      "text/plain": [
       "<matplotlib.axes._subplots.AxesSubplot at 0x7fee2a95a6d0>"
      ]
     },
     "execution_count": 184,
     "metadata": {},
     "output_type": "execute_result"
    },
    {
     "data": {
      "image/png": "[encoded data removed]",
      "text/plain": [
       "<Figure size 432x288 with 1 Axes>"
      ]
     },
     "metadata": {
      "needs_background": "light"
     },
     "output_type": "display_data"
    }
   ],
   "source": [
    "MC_Sim_5y.plot_distribution()"
   ]
  },
  {
   "cell_type": "code",
   "execution_count": 186,
   "metadata": {},
   "outputs": [
    {
     "data": {
      "text/plain": [
       "count           500.000000\n",
       "mean             12.717476\n",
       "std               4.336802\n",
       "min               4.161782\n",
       "25%               9.571174\n",
       "50%              12.045881\n",
       "75%              14.921823\n",
       "max              33.634900\n",
       "95% CI Lower      6.286733\n",
       "95% CI Upper     23.254592\n",
       "Name: 7560, dtype: float64"
      ]
     },
     "execution_count": 186,
     "metadata": {},
     "output_type": "execute_result"
    }
   ],
   "source": [
    "MC_Sim_5y.summarize_cumulative_return()"
   ]
  },
  {
   "cell_type": "code",
   "execution_count": null,
   "metadata": {},
   "outputs": [],
   "source": []
  }
 ],
 "metadata": {
  "kernelspec": {
   "display_name": "Python 3",
   "language": "python",
   "name": "python3"
  },
  "language_info": {
   "codemirror_mode": {
    "name": "ipython",
    "version": 3
   },
   "file_extension": ".py",
   "mimetype": "text/x-python",
   "name": "python",
   "nbconvert_exporter": "python",
   "pygments_lexer": "ipython3",
   "version": "3.7.9"
  }
 },
 "nbformat": 4,
 "nbformat_minor": 4
}
